{
  "nbformat": 4,
  "nbformat_minor": 0,
  "metadata": {
    "colab": {
      "provenance": [],
      "authorship_tag": "ABX9TyPZTfv5aXacy5ihNJkaCIPE",
      "include_colab_link": true
    },
    "kernelspec": {
      "name": "python3",
      "display_name": "Python 3"
    },
    "language_info": {
      "name": "python"
    }
  },
  "cells": [
    {
      "cell_type": "markdown",
      "metadata": {
        "id": "view-in-github",
        "colab_type": "text"
      },
      "source": [
        "<a href=\"https://colab.research.google.com/github/AkeemLawrence/Data-602/blob/main/Akeem_Lawrence_HW1_Data_602.ipynb\" target=\"_parent\"><img src=\"https://colab.research.google.com/assets/colab-badge.svg\" alt=\"Open In Colab\"/></a>"
      ]
    },
    {
      "cell_type": "code",
      "execution_count": null,
      "metadata": {
        "colab": {
          "base_uri": "https://localhost:8080/"
        },
        "id": "atNoYAVNeAA_",
        "outputId": "ac9c3bbd-2f66-43d1-eef2-ba1bf70275d5"
      },
      "outputs": [
        {
          "output_type": "stream",
          "name": "stdout",
          "text": [
            "Enter the score for test 1: 3\n",
            "Enter the score for test 2: 3\n",
            "Enter the score for test 3: 3\n",
            "3.0\n",
            "You did a good job!\n",
            "Enter desired rectangle length: 3\n",
            "Enter desired rectangle width: 3\n",
            "9.0\n",
            "Enter desired rectangle length: 3\n",
            "Enter desired rectangle length: 3\n",
            "9.0\n",
            "Enter your name: akeem\n",
            "Enter your age: 39\n",
            "Happy birthday, akeem! You are 39 years old today!\n"
          ]
        }
      ],
      "source": [
        "#Q1 Fix all the syntax and logical errors in the given source code\n",
        "#add comments to explain your reasoning\n",
        "\n",
        "# This program gets three test scores and displays their average.  It congratulates the user if the\n",
        "# average is a high score. The high score variable holds the value that is considered a high score.\n",
        "\n",
        "HIGH_SCORE = 95\n",
        "\n",
        "# Get the test scores.\n",
        "test1 = int(input('Enter the score for test 1: '))\n",
        "test2 = int(input('Enter the score for test 2: '))\n",
        "test3 = int(input('Enter the score for test 3: '))\n",
        "\n",
        "# Calculate the average test score.\n",
        "average = (test1 + test2 + test3) / 3\n",
        "#Here we needed parentheses due to order of operations.\n",
        "\n",
        "# Print the average.\n",
        "print(average)\n",
        "\n",
        "# If the average is a high score,\n",
        "# congratulate the user.\n",
        "\n",
        "if average >= HIGH_SCORE:\n",
        "    print('Congratulations! You achieved a high score!')\n",
        "else:\n",
        "    print('You did a good job!')\n",
        "\n",
        "#Q2\n",
        "#The area of a rectangle is the rectangle’s length times its width. Write a program that asks for the length and width of two rectangles and prints to the user the area of both rectangles.\n",
        "\n",
        "#Use a float in case user inputs decimals.\n",
        "length1 = float(input(\"Enter desired rectangle length: \"))\n",
        "width1 = float(input(\"Enter desired rectangle width: \"))\n",
        "area1 = float(length1 * width1)\n",
        "\n",
        "print(area1)\n",
        "\n",
        "length2 = float(input(\"Enter desired rectangle length: \"))\n",
        "width2 = float(input(\"Enter desired rectangle length: \"))\n",
        "area2 = float(length2 * width2)\n",
        "\n",
        "print(area2)\n",
        "\n",
        "#Q3\n",
        "#Ask a user to enter their first name and their age and assign it to the variables name and age.\n",
        "#The variable name should be a string and the variable age should be an int.  mz\n",
        "\n",
        "name = input(\"Enter your name: \")\n",
        "age = int(input(\"Enter your age: \"))\n",
        "\n",
        "#Using the variables name and age, print a message to the user stating something along the lines of:\n",
        "# \"Happy birthday, name!  You are age years old today!\"\n",
        "\n",
        "print(f\"Happy birthday, {name}! You are {age} years old today!\")\n",
        "\n"
      ]
    }
  ]
}