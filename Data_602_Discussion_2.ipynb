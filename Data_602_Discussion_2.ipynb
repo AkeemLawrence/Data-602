{
  "nbformat": 4,
  "nbformat_minor": 0,
  "metadata": {
    "colab": {
      "provenance": [],
      "authorship_tag": "ABX9TyMDxvNSgf9Yhkxg/lappSUJ",
      "include_colab_link": true
    },
    "kernelspec": {
      "name": "python3",
      "display_name": "Python 3"
    },
    "language_info": {
      "name": "python"
    }
  },
  "cells": [
    {
      "cell_type": "markdown",
      "metadata": {
        "id": "view-in-github",
        "colab_type": "text"
      },
      "source": [
        "<a href=\"https://colab.research.google.com/github/AkeemLawrence/Data-602/blob/main/Data_602_Discussion_2.ipynb\" target=\"_parent\"><img src=\"https://colab.research.google.com/assets/colab-badge.svg\" alt=\"Open In Colab\"/></a>"
      ]
    },
    {
      "cell_type": "code",
      "execution_count": null,
      "metadata": {
        "id": "kyle1VskBdM0"
      },
      "outputs": [],
      "source": [
        "# In the post section, there is an option to insert code.  ( + button, then select insert code )\n",
        "# Python Basics\n",
        "# 1. Create a variable y and set it to 5\n",
        "# 2. Create a string variable called first_name and set it to your first name.\n",
        "# 3. Create a string variable called last_name and set it to your last name.\n",
        "# 4. Create a string variable called full_name and set it equal to your full name using variables above.\n",
        "# 5. Assign 20 to the variable hours_worked, 15 to the variable wage_per_hour and the product of the two to variable total_pay\n",
        "# 6. Create a variable called x and set it to 10. Then create a variable y that equals to x to the 7th power\n",
        "\n",
        "y = 5\n",
        "first_name = \"Akeem\"\n",
        "last_name = \"Lawrence\"\n",
        "full_name = first_name + \" \" + last_name\n",
        "hours_worked = 40\n",
        "wage_per_hour = 10\n",
        "total_pay = hours_worked * wage_per_hour\n",
        "x = 10\n",
        "y = x ** 7\n",
        "print(full_name)\n",
        "print(total_pay)\n",
        "print(y)"
      ]
    }
  ]
}