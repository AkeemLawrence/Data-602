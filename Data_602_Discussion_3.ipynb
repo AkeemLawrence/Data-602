{
  "nbformat": 4,
  "nbformat_minor": 0,
  "metadata": {
    "colab": {
      "provenance": [],
      "authorship_tag": "ABX9TyP+x1B1TZvTC2WuxYZ4HKN/",
      "include_colab_link": true
    },
    "kernelspec": {
      "name": "python3",
      "display_name": "Python 3"
    },
    "language_info": {
      "name": "python"
    }
  },
  "cells": [
    {
      "cell_type": "markdown",
      "metadata": {
        "id": "view-in-github",
        "colab_type": "text"
      },
      "source": [
        "<a href=\"https://colab.research.google.com/github/AkeemLawrence/Data-602/blob/main/Data_602_Discussion_3.ipynb\" target=\"_parent\"><img src=\"https://colab.research.google.com/assets/colab-badge.svg\" alt=\"Open In Colab\"/></a>"
      ]
    },
    {
      "cell_type": "code",
      "execution_count": null,
      "metadata": {
        "colab": {
          "base_uri": "https://localhost:8080/"
        },
        "id": "oa4fyK_V1PSc",
        "outputId": "5e775330-067e-4114-e493-9c59d2737f51"
      },
      "outputs": [
        {
          "output_type": "stream",
          "name": "stdout",
          "text": [
            "['cat', 'dog', 'manta ray', 'horse', 'crouching tiger']\n",
            "cat\n",
            "dog\n",
            "manta ray\n",
            "horse\n",
            "crouching tiger\n",
            "[10, 9, 8, 7, 6, 5, 4, 3, 2, 1, 0, -5]\n",
            "6\n",
            "[10, 20, [300, 400, [5000, 6000, 7000], 500], 30, 40]\n",
            "[5, 30, 15, 30]\n",
            "DATA 606\n",
            "{'Course': 'DATA602', 'Program': 'MSDS', 'School': 'CUNYSPS'}\n",
            "{'Course': 'DATA602', 'Program': 'MSDS', 'School': 'CUNYSPS', 'Professor': 'Schettini'}\n",
            "4\n",
            "{'emp1': {'name': 'Amanda', 'salary': 8200}, 'emp2': {'name': 'John', 'salary': 8000}, 'emp3': {'name': 'Brad', 'salary': 7500}}\n"
          ]
        }
      ],
      "source": [
        "#Create a list called animals that contain the following: cat, dog, manta ray, horse, crouching tiger\n",
        "\n",
        "animals = [\"cat\", \"dog\", \"manta ray\", \"horse\", \"crouching tiger\"]\n",
        "print(animals)\n",
        "\n",
        "# Repeat question 1 and loop through and print each item in the animal list by iterating through an index number and using range(). Set a variable len_animals to the length of the animal list.\n",
        "for animal in animals:\n",
        "     print(animal)\n",
        "\n",
        "# Programmatically reorganize the countdown list below in descending order and return the value of the 5th element in the sorted countdown list.\n",
        "#     The 5th element will be stored in the variable the_fifth_element, which currently below has a dummy value of -999.\n",
        "#     Remember, the index number of the 5th element is not 5\n",
        "\n",
        "countdown = [9, 8, 7, 5, 4, 2, 1, 6, 10, 3, 0, -5]\n",
        "countdown.sort(reverse=True)\n",
        "print(countdown)\n",
        "the_fifth_element = countdown[4]\n",
        "print(the_fifth_element)\n",
        "\n",
        "#Write a program to add item 7000 after 6000 in the following Python List\n",
        "\n",
        "list1 = [10, 20, [300, 400, [5000, 6000], 500], 30, 40]\n",
        "list1[2][2].insert(3,7000)\n",
        "print(list1)\n",
        "\n",
        "#5. Write a program to remove all occurrences of item 20 in the following list.\n",
        "list2 = [5, 20, 30, 15, 20, 30, 20]\n",
        "\n",
        "for item in list2 :\n",
        "    if item == 20 :\n",
        "        list2.remove(item)\n",
        "print(list2)\n",
        "\n",
        "dict = {\"Course\": \"DATA 606\", \"Program\": \"MSDS\", \"School\": \"CUNYSPS\"}\n",
        "#a. What is the name of the course?\n",
        "print(dict[\"Course\"])\n",
        "\n",
        "#b. Change the course to DATA602\n",
        "dict[\"Course\"] = \"DATA602\"\n",
        "print(dict)\n",
        "\n",
        "#c. Add new information to the dictionary - \"Professor\" with \"Schettini\"\n",
        "dict[\"Professor\"] = \"Schettini\"\n",
        "print(dict)\n",
        "\n",
        "#d. Using the len function, find how many keys there are in the dictionary.\n",
        "print(len(dict))\n",
        "\n",
        "#7.  Write a Python program to change Brad’s salary to 7500 in the following dictionary.\n",
        "sample_dict = {\n",
        "    'emp1': {'name': 'Amanda', 'salary': 8200},\n",
        "    'emp2': {'name': 'John', 'salary': 8000},\n",
        "    'emp3': {'name': 'Brad', 'salary': 700}\n",
        "}\n",
        "\n",
        "sample_dict[\"emp3\"][\"salary\"] = 7500\n",
        "print(sample_dict)\n",
        "\n",
        "\n",
        "\n",
        "\n"
      ]
    },
    {
      "cell_type": "code",
      "source": [],
      "metadata": {
        "id": "1DfyLcGX6NFn"
      },
      "execution_count": null,
      "outputs": []
    }
  ]
}